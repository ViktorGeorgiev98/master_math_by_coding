{
 "cells": [
  {
   "cell_type": "markdown",
   "metadata": {
    "id": "dHFgBhPpsNGI"
   },
   "source": [
    "# COURSE: Master math by coding in Python\n",
    "# SECTION: Introduction to Sympy and Latex\n",
    "# VIDEO: Intro to LaTeX\n",
    "\n",
    "\n",
    "### https://www.udemy.com/course/math-with-python/?couponCode=202312\n",
    "#### INSTRUCTOR: Mike X Cohen (http://sincxpress.com)\n",
    "\n",
    "This code roughly matches the code shown in the live recording: variable names, order of lines, and parameter settings may be slightly different."
   ]
  },
  {
   "cell_type": "markdown",
   "metadata": {
    "id": "knNYsQTDx0V0"
   },
   "source": [
    "<a target=\"_blank\" href=\"https://colab.research.google.com/github/mikexcohen/MathWithPython/blob/main/sympyLatex/mathWithPython_sympyLatex_latex.ipynb\">\n",
    "  <img src=\"https://colab.research.google.com/assets/colab-badge.svg\" alt=\"Open In Colab\"/>\n",
    "</a>"
   ]
  },
  {
   "cell_type": "code",
   "execution_count": null,
   "metadata": {
    "id": "oam9xPYUE_PH"
   },
   "outputs": [],
   "source": []
  },
  {
   "cell_type": "code",
   "execution_count": 1,
   "metadata": {
    "id": "wGqBnSO4Ep85"
   },
   "outputs": [],
   "source": [
    "# import libraries and functions\n",
    "from IPython.display import display,Math"
   ]
  },
  {
   "cell_type": "code",
   "execution_count": 2,
   "metadata": {
    "id": "qrUd8zubDqJw"
   },
   "outputs": [
    {
     "data": {
      "text/latex": [
       "$\\displaystyle 4+5=9$"
      ],
      "text/plain": [
       "<IPython.core.display.Math object>"
      ]
     },
     "metadata": {},
     "output_type": "display_data"
    }
   ],
   "source": [
    "# basic latex coding is easy:\n",
    "display(Math('4+5=9'))"
   ]
  },
  {
   "cell_type": "code",
   "execution_count": 4,
   "metadata": {
    "id": "aSM5LacLDqJw",
    "scrolled": true
   },
   "outputs": [
    {
     "name": "stderr",
     "output_type": "stream",
     "text": [
      "<>:11: SyntaxWarning: invalid escape sequence '\\p'\n",
      "<>:11: SyntaxWarning: invalid escape sequence '\\p'\n",
      "C:\\Users\\admin\\AppData\\Local\\Temp\\ipykernel_6580\\510241859.py:11: SyntaxWarning: invalid escape sequence '\\p'\n",
      "  display(Math('\\\\frac{1+x}{2e^{\\pi}}'))\n"
     ]
    },
    {
     "data": {
      "text/latex": [
       "$\\displaystyle \\sigma = \\mu \\times \\sqrt{5}$"
      ],
      "text/plain": [
       "<IPython.core.display.Math object>"
      ]
     },
     "metadata": {},
     "output_type": "display_data"
    },
    {
     "data": {
      "text/latex": [
       "$\\displaystyle \\sigma = \\mu \\times \\sqrt{5}$"
      ],
      "text/plain": [
       "<IPython.core.display.Math object>"
      ]
     },
     "metadata": {},
     "output_type": "display_data"
    },
    {
     "data": {
      "text/latex": [
       "$\\displaystyle x_n + y^m - z^{m+n}$"
      ],
      "text/plain": [
       "<IPython.core.display.Math object>"
      ]
     },
     "metadata": {},
     "output_type": "display_data"
    },
    {
     "data": {
      "text/latex": [
       "$\\displaystyle \\frac{1+x}{2e^{\\pi}}$"
      ],
      "text/plain": [
       "<IPython.core.display.Math object>"
      ]
     },
     "metadata": {},
     "output_type": "display_data"
    }
   ],
   "source": [
    "# special characters are indicated using \\\\\n",
    "display(Math('\\\\sigma = \\\\mu \\\\times \\\\sqrt{5}'))\n",
    "\n",
    "# outside Python, use one \\\n",
    "display(Math('\\\\sigma = \\\\mu \\\\times \\\\sqrt{5}'))\n",
    "\n",
    "# subscripts and superscripts\n",
    "display(Math('x_n + y^m - z^{m+n}'))\n",
    "\n",
    "# fractions\n",
    "display(Math('\\\\frac{1+x}{2e^{\\pi}}'))"
   ]
  },
  {
   "cell_type": "code",
   "execution_count": 5,
   "metadata": {
    "id": "mOxIWn4zDqJx"
   },
   "outputs": [
    {
     "data": {
      "text/latex": [
       "$\\displaystyle Set x equal to 4$"
      ],
      "text/plain": [
       "<IPython.core.display.Math object>"
      ]
     },
     "metadata": {},
     "output_type": "display_data"
    },
    {
     "data": {
      "text/latex": [
       "$\\displaystyle \\text{Set x equal to 4}$"
      ],
      "text/plain": [
       "<IPython.core.display.Math object>"
      ]
     },
     "metadata": {},
     "output_type": "display_data"
    }
   ],
   "source": [
    "# regular text requires a special tag\n",
    "f = 4\n",
    "display(Math('Set x equal to %g'%f))\n",
    "\n",
    "display(Math('\\\\text{Set x equal to %g}'%f))"
   ]
  },
  {
   "cell_type": "markdown",
   "metadata": {
    "id": "_c_hvVHlDqJx"
   },
   "source": [
    "### Latex code in a markdown cell\n",
    "\n",
    "Note: this is not for evaluating variables or other numerical code!\n",
    "\n",
    "\n",
    "$$ \\frac{1+\\sqrt{2x}}{e^{i\\pi}} $$"
   ]
  },
  {
   "cell_type": "code",
   "execution_count": null,
   "metadata": {
    "id": "qbRB6HOuEtNo"
   },
   "outputs": [],
   "source": []
  },
  {
   "cell_type": "markdown",
   "metadata": {
    "id": "wYA_kJziDqJx"
   },
   "source": [
    "# Exercises\n"
   ]
  },
  {
   "cell_type": "code",
   "execution_count": 6,
   "metadata": {
    "id": "R4u7UpwoDqJx"
   },
   "outputs": [
    {
     "data": {
      "text/latex": [
       "$\\displaystyle 4x+5y-8z=17$"
      ],
      "text/plain": [
       "<IPython.core.display.Math object>"
      ]
     },
     "metadata": {},
     "output_type": "display_data"
    },
    {
     "data": {
      "text/latex": [
       "$\\displaystyle \\sin(2\\pi f t+\\theta)$"
      ],
      "text/plain": [
       "<IPython.core.display.Math object>"
      ]
     },
     "metadata": {},
     "output_type": "display_data"
    },
    {
     "data": {
      "text/latex": [
       "$\\displaystyle e=mc^2$"
      ],
      "text/plain": [
       "<IPython.core.display.Math object>"
      ]
     },
     "metadata": {},
     "output_type": "display_data"
    },
    {
     "data": {
      "text/latex": [
       "$\\displaystyle \\frac{4+5x^2}{(1+x)(1-x)}$"
      ],
      "text/plain": [
       "<IPython.core.display.Math object>"
      ]
     },
     "metadata": {},
     "output_type": "display_data"
    }
   ],
   "source": [
    "# 1)\n",
    "display(Math('4x+5y-8z=17'))\n",
    "\n",
    "# 2)\n",
    "display(Math('\\\\sin(2\\\\pi f t+\\\\theta)'))\n",
    "\n",
    "# 3)\n",
    "display(Math('e=mc^2'))\n",
    "\n",
    "# 4)\n",
    "display(Math('\\\\frac{4+5x^2}{(1+x)(1-x)}'))"
   ]
  },
  {
   "cell_type": "code",
   "execution_count": null,
   "metadata": {},
   "outputs": [],
   "source": []
  }
 ],
 "metadata": {
  "colab": {
   "provenance": []
  },
  "kernelspec": {
   "display_name": "Python 3",
   "language": "python",
   "name": "python3"
  },
  "language_info": {
   "codemirror_mode": {
    "name": "ipython",
    "version": 3
   },
   "file_extension": ".py",
   "mimetype": "text/x-python",
   "name": "python",
   "nbconvert_exporter": "python",
   "pygments_lexer": "ipython3",
   "version": "3.13.2"
  }
 },
 "nbformat": 4,
 "nbformat_minor": 0
}
