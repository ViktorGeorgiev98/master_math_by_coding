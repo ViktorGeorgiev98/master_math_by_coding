{
 "cells": [
  {
   "cell_type": "markdown",
   "metadata": {
    "id": "Brtl6ZgJqgu2"
   },
   "source": [
    "# COURSE: Master math by coding in Python\n",
    "# SECTION: Graphing\n",
    "# VIDEO: Plotting coordinates on a plane\n",
    "\n",
    "\n",
    "### https://www.udemy.com/course/math-with-python/?couponCode=202312\n",
    "#### INSTRUCTOR: Mike X Cohen (http://sincxpress.com)\n",
    "\n",
    "This code roughly matches the code shown in the live recording: variable names, order of lines, and parameter settings may be slightly different."
   ]
  },
  {
   "cell_type": "markdown",
   "metadata": {
    "id": "JZhUk_36xwBy"
   },
   "source": [
    "<a target=\"_blank\" href=\"https://colab.research.google.com/github/mikexcohen/MasterMathByCodingInPython/blob/main/graphing/mathWithPython_graph_coords2.ipynb\">\n",
    "  <img src=\"https://colab.research.google.com/assets/colab-badge.svg\" alt=\"Open In Colab\"/>\n",
    "</a>"
   ]
  },
  {
   "cell_type": "code",
   "execution_count": 22,
   "metadata": {
    "id": "wBVucbKz7bmm"
   },
   "outputs": [],
   "source": [
    "# import libraries\n",
    "import sympy as sym\n",
    "import numpy as np\n",
    "from IPython.display import display, Math\n",
    "import matplotlib.pyplot as plt\n",
    "import random"
   ]
  },
  {
   "cell_type": "code",
   "execution_count": 23,
   "metadata": {},
   "outputs": [
    {
     "data": {
      "image/png": "[encoded data removed]",
      "text/plain": [
       "<Figure size 640x480 with 1 Axes>"
      ]
     },
     "metadata": {},
     "output_type": "display_data"
    }
   ],
   "source": [
    "x = sym.symbols(\"x\")\n",
    "y = sym.symbols(\"y\")\n",
    "x_range = np.arange(-10, 11, 1)\n",
    "colors = [\"red\", \"green\", \"blue\", \"orange\", \"purple\"]\n",
    "y = x**2 - 3*x\n",
    "for i in x_range:\n",
    "    x = i\n",
    "    y_value = y.subs(\"x\", x)\n",
    "    plt.plot(x, y_value, color=random.choice(colors), marker=\"o\", markersize=5)\n",
    "plt.xlabel('x')\n",
    "plt.ylabel('$f(x) = %s$' %sym.latex(y))\n",
    "plt.show()"
   ]
  },
  {
   "cell_type": "markdown",
   "metadata": {
    "id": "Cka0ahk37bmp"
   },
   "source": [
    "# Exercise"
   ]
  },
  {
   "cell_type": "code",
   "execution_count": 21,
   "metadata": {
    "id": "kCMU-caZ7bmp"
   },
   "outputs": [
    {
     "ename": "TypeError",
     "evalue": "'numpy.ndarray' object is not callable",
     "output_type": "error",
     "traceback": [
      "\u001b[31m---------------------------------------------------------------------------\u001b[39m",
      "\u001b[31mTypeError\u001b[39m                                 Traceback (most recent call last)",
      "\u001b[36mCell\u001b[39m\u001b[36m \u001b[39m\u001b[32mIn[21]\u001b[39m\u001b[32m, line 7\u001b[39m\n\u001b[32m      4\u001b[39m x = sym.symbols(\u001b[33m'\u001b[39m\u001b[33mx\u001b[39m\u001b[33m'\u001b[39m)\n\u001b[32m      5\u001b[39m y = x**\u001b[32m2\u001b[39m - \u001b[32m3\u001b[39m*x\n\u001b[32m----> \u001b[39m\u001b[32m7\u001b[39m xrange = \u001b[38;5;28;43mrange\u001b[39;49m\u001b[43m(\u001b[49m\u001b[43m-\u001b[49m\u001b[32;43m10\u001b[39;49m\u001b[43m,\u001b[49m\u001b[32;43m11\u001b[39;49m\u001b[43m)\u001b[49m\n\u001b[32m     10\u001b[39m \u001b[38;5;28;01mfor\u001b[39;00m i \u001b[38;5;129;01min\u001b[39;00m \u001b[38;5;28mrange\u001b[39m(\u001b[32m0\u001b[39m,\u001b[38;5;28mlen\u001b[39m(xrange)):\n\u001b[32m     11\u001b[39m   plt.plot(xrange[i],y.subs({x:xrange[i]}),\u001b[33m'\u001b[39m\u001b[33mo\u001b[39m\u001b[33m'\u001b[39m)\n",
      "\u001b[31mTypeError\u001b[39m: 'numpy.ndarray' object is not callable"
     ]
    }
   ],
   "source": [
    "# define a function and then subs\n",
    "import sympy as sym\n",
    "\n",
    "x = sym.symbols('x')\n",
    "y = x**2 - 3*x\n",
    "\n",
    "xrange = range(-10,11)\n",
    "\n",
    "\n",
    "for i in range(0,len(xrange)):\n",
    "  plt.plot(xrange[i],y.subs({x:xrange[i]}),'o')\n",
    "\n",
    "plt.xlabel('x')\n",
    "plt.ylabel('$f(x) = %s$' %sym.latex(y))\n",
    "plt.show()"
   ]
  },
  {
   "cell_type": "code",
   "execution_count": null,
   "metadata": {
    "id": "mTGgRmu-7-u3"
   },
   "outputs": [],
   "source": []
  }
 ],
 "metadata": {
  "colab": {
   "provenance": []
  },
  "kernelspec": {
   "display_name": "Python 3",
   "language": "python",
   "name": "python3"
  },
  "language_info": {
   "codemirror_mode": {
    "name": "ipython",
    "version": 3
   },
   "file_extension": ".py",
   "mimetype": "text/x-python",
   "name": "python",
   "nbconvert_exporter": "python",
   "pygments_lexer": "ipython3",
   "version": "3.13.2"
  }
 },
 "nbformat": 4,
 "nbformat_minor": 0
}
