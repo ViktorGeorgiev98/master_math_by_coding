{
 "cells": [
  {
   "cell_type": "markdown",
   "metadata": {
    "id": "Brtl6ZgJqgu2"
   },
   "source": [
    "# COURSE: Master math by coding in Python\n",
    "# SECTION: Arithmetic\n",
    "# VIDEO: Create interactive math functions, part 3\n",
    "\n",
    "\n",
    "### https://www.udemy.com/course/math-with-python/?couponCode=202312\n",
    "#### INSTRUCTOR: Mike X Cohen (http://sincxpress.com)\n",
    "\n",
    "This code roughly matches the code shown in the live recording: variable names, order of lines, and parameter settings may be slightly different."
   ]
  },
  {
   "cell_type": "markdown",
   "metadata": {
    "id": "JZhUk_36xwBy"
   },
   "source": [
    "<a target=\"_blank\" href=\"https://colab.research.google.com/github/mikexcohen/MathWithPython/blob/main/arithmetic/mathWithPython_arithmetic_functions3.ipynb\">\n",
    "  <img src=\"https://colab.research.google.com/assets/colab-badge.svg\" alt=\"Open In Colab\"/>\n",
    "</a>"
   ]
  },
  {
   "cell_type": "code",
   "execution_count": null,
   "metadata": {
    "id": "L1AfFfpIxwcm"
   },
   "outputs": [],
   "source": []
  },
  {
   "cell_type": "code",
   "execution_count": 4,
   "metadata": {
    "id": "D5XD-6N8qgvA"
   },
   "outputs": [],
   "source": [
    "# guess a number!\n",
    "# write code to generate a random integer and then input user guesses of that integer.\n",
    "# The code should tell the user to guess higher or lower until they get the right answer.\n",
    "\n",
    "from numpy import random\n",
    "\n",
    "def guessTheNumber():\n",
    "  num2guess = random.randint(1,101)\n",
    "\n",
    "  userguess = int( input('Guess a number between 1 and 100  ') )\n",
    "  while userguess!=num2guess:\n",
    "    if userguess>num2guess:\n",
    "      print('Guess lower!')\n",
    "    elif userguess<num2guess:\n",
    "      print('Guess higher!')\n",
    "\n",
    "    userguess = int( input('Guess again ') )\n",
    "\n",
    "  print('Got it! The right number was %g and your final guess was %g'%(num2guess,userguess))\n"
   ]
  },
  {
   "cell_type": "code",
   "execution_count": 5,
   "metadata": {
    "id": "j6d0oRNGqgvA"
   },
   "outputs": [
    {
     "name": "stdout",
     "output_type": "stream",
     "text": [
      "Guess higher!\n",
      "Guess higher!\n",
      "Guess higher!\n",
      "Guess lower!\n",
      "Guess higher!\n",
      "Guess lower!\n",
      "Guess higher!\n",
      "Guess higher!\n",
      "Guess higher!\n",
      "Got it! The right number was 24 and your final guess was 24\n"
     ]
    }
   ],
   "source": [
    "guessTheNumber()"
   ]
  },
  {
   "cell_type": "code",
   "execution_count": null,
   "metadata": {
    "id": "SoO689fhqgvB"
   },
   "outputs": [],
   "source": []
  }
 ],
 "metadata": {
  "colab": {
   "provenance": []
  },
  "kernelspec": {
   "display_name": "Python 3",
   "language": "python",
   "name": "python3"
  },
  "language_info": {
   "codemirror_mode": {
    "name": "ipython",
    "version": 3
   },
   "file_extension": ".py",
   "mimetype": "text/x-python",
   "name": "python",
   "nbconvert_exporter": "python",
   "pygments_lexer": "ipython3",
   "version": "3.13.2"
  }
 },
 "nbformat": 4,
 "nbformat_minor": 0
}
