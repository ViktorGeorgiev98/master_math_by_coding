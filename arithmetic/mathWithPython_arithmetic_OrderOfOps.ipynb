{
 "cells": [
  {
   "cell_type": "markdown",
   "metadata": {
    "id": "Brtl6ZgJqgu2"
   },
   "source": [
    "# COURSE: Master math by coding in Python\n",
    "# SECTION: Arithmetic\n",
    "# VIDEO: Order of operations\n",
    "\n",
    "\n",
    "### https://www.udemy.com/course/math-with-python/?couponCode=202312\n",
    "#### INSTRUCTOR: Mike X Cohen (http://sincxpress.com)\n",
    "\n",
    "This code roughly matches the code shown in the live recording: variable names, order of lines, and parameter settings may be slightly different."
   ]
  },
  {
   "cell_type": "markdown",
   "metadata": {
    "id": "JZhUk_36xwBy"
   },
   "source": [
    "<a target=\"_blank\" href=\"https://colab.research.google.com/github/mikexcohen/MathWithPython/blob/main/arithmetic/mathWithPython_arithmetic_OrderOfOps.ipynb\">\n",
    "  <img src=\"https://colab.research.google.com/assets/colab-badge.svg\" alt=\"Open In Colab\"/>\n",
    "</a>"
   ]
  },
  {
   "cell_type": "code",
   "execution_count": null,
   "metadata": {
    "id": "L1AfFfpIxwcm"
   },
   "outputs": [],
   "source": []
  },
  {
   "cell_type": "markdown",
   "metadata": {
    "id": "xN6Rey_Nqgu-",
    "scrolled": true
   },
   "source": [
    "## Reminder about order of operations:\n",
    "PEMDAS:\n",
    "\n",
    "    Parentheses\n",
    "    Exponents\n",
    "    Multiplication\n",
    "    Division\n",
    "    Addition\n",
    "    Subtraction\n",
    "    \n",
    "(Please excuse my dear aunt Sally)\n"
   ]
  },
  {
   "cell_type": "code",
   "execution_count": 1,
   "metadata": {
    "id": "hl11lU_Nqgu-"
   },
   "outputs": [
    {
     "name": "stdout",
     "output_type": "stream",
     "text": [
      "9\n"
     ]
    }
   ],
   "source": [
    "# examples from slides\n",
    "\n",
    "print( 4 + 3 * 2 - 1 ) # spacing has no effect\n"
   ]
  },
  {
   "cell_type": "code",
   "execution_count": 2,
   "metadata": {
    "id": "ZSkyTgPWqgu-"
   },
   "outputs": [
    {
     "data": {
      "text/plain": [
       "10"
      ]
     },
     "execution_count": 2,
     "metadata": {},
     "output_type": "execute_result"
    }
   ],
   "source": [
    "# will this be 24 or 10?\n",
    "4 + 2 * 3"
   ]
  },
  {
   "cell_type": "code",
   "execution_count": 3,
   "metadata": {
    "id": "X06ugFZyqgu-"
   },
   "outputs": [
    {
     "data": {
      "text/plain": [
       "7"
      ]
     },
     "execution_count": 3,
     "metadata": {},
     "output_type": "execute_result"
    }
   ],
   "source": [
    "# how about this one? can you make the be 7 or -11?\n",
    "2 - 4 + 9"
   ]
  },
  {
   "cell_type": "code",
   "execution_count": null,
   "metadata": {
    "id": "P-K9Ur752ZyL"
   },
   "outputs": [],
   "source": []
  },
  {
   "cell_type": "markdown",
   "metadata": {
    "id": "g835zqmTqgu-"
   },
   "source": [
    "# Exercises"
   ]
  },
  {
   "cell_type": "code",
   "execution_count": 4,
   "metadata": {
    "id": "JTjdTu39qgu-"
   },
   "outputs": [
    {
     "name": "stdout",
     "output_type": "stream",
     "text": [
      "2.0\n",
      "0.0\n"
     ]
    }
   ],
   "source": [
    "# add parentheses as needed to make the following equations true\n",
    "\n",
    "# 1)\n",
    "print( 4*5/(7+3) )\n",
    "\n",
    "# 2)\n",
    "print( 9/(3+6)-1 )\n"
   ]
  },
  {
   "cell_type": "code",
   "execution_count": 5,
   "metadata": {
    "id": "SoO689fhqgvB"
   },
   "outputs": [
    {
     "name": "stdout",
     "output_type": "stream",
     "text": [
      "2.0\n"
     ]
    }
   ],
   "source": [
    "print(4 * 5 / (7 + 3))"
   ]
  },
  {
   "cell_type": "code",
   "execution_count": 6,
   "metadata": {},
   "outputs": [
    {
     "name": "stdout",
     "output_type": "stream",
     "text": [
      "0.0\n"
     ]
    }
   ],
   "source": [
    "print(9 / (3 + 6) - 1)"
   ]
  },
  {
   "cell_type": "code",
   "execution_count": null,
   "metadata": {},
   "outputs": [],
   "source": []
  }
 ],
 "metadata": {
  "colab": {
   "provenance": []
  },
  "kernelspec": {
   "display_name": "Python 3",
   "language": "python",
   "name": "python3"
  },
  "language_info": {
   "codemirror_mode": {
    "name": "ipython",
    "version": 3
   },
   "file_extension": ".py",
   "mimetype": "text/x-python",
   "name": "python",
   "nbconvert_exporter": "python",
   "pygments_lexer": "ipython3",
   "version": "3.13.2"
  }
 },
 "nbformat": 4,
 "nbformat_minor": 0
}
