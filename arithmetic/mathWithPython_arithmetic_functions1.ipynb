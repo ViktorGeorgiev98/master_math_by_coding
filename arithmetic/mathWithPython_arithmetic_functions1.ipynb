{
 "cells": [
  {
   "cell_type": "markdown",
   "metadata": {
    "id": "Brtl6ZgJqgu2"
   },
   "source": [
    "# COURSE: Master math by coding in Python\n",
    "# SECTION: Arithmetic\n",
    "# VIDEO: Create interactive math functions, part 1\n",
    "\n",
    "\n",
    "### https://www.udemy.com/course/math-with-python/?couponCode=202312\n",
    "#### INSTRUCTOR: Mike X Cohen (http://sincxpress.com)\n",
    "\n",
    "This code roughly matches the code shown in the live recording: variable names, order of lines, and parameter settings may be slightly different."
   ]
  },
  {
   "cell_type": "markdown",
   "metadata": {
    "id": "JZhUk_36xwBy"
   },
   "source": [
    "<a target=\"_blank\" href=\"https://colab.research.google.com/github/mikexcohen/MathWithPython/blob/main/arithmetic/mathWithPython_arithmetic_functions1.ipynb\">\n",
    "  <img src=\"https://colab.research.google.com/assets/colab-badge.svg\" alt=\"Open In Colab\"/>\n",
    "</a>"
   ]
  },
  {
   "cell_type": "code",
   "execution_count": null,
   "metadata": {
    "id": "L1AfFfpIxwcm"
   },
   "outputs": [],
   "source": []
  },
  {
   "cell_type": "code",
   "execution_count": 1,
   "metadata": {
    "id": "vh1coYeh7sIt"
   },
   "outputs": [],
   "source": [
    "# import libraries and functions\n",
    "from IPython.display import display,Math"
   ]
  },
  {
   "cell_type": "code",
   "execution_count": 2,
   "metadata": {
    "id": "HM1-JVvJqgu_"
   },
   "outputs": [],
   "source": [
    "# create a function that takes two numbers and reports the numbers, their integer division, and remainder\n",
    "\n",
    "# define the function\n",
    "def computeremainder(x,y):\n",
    "  division  = int( x/y )\n",
    "  remainder = x%y\n",
    "\n",
    "  print(\"%g goes into %g, %g times with a remainder of %g.\" %(y,x,division,remainder))"
   ]
  },
  {
   "cell_type": "code",
   "execution_count": 3,
   "metadata": {
    "id": "7ibImnPtqgu_"
   },
   "outputs": [
    {
     "name": "stdout",
     "output_type": "stream",
     "text": [
      "3 goes into 10, 3 times with a remainder of 1.\n"
     ]
    }
   ],
   "source": [
    "computeremainder(10,3)"
   ]
  },
  {
   "cell_type": "code",
   "execution_count": 4,
   "metadata": {
    "id": "NYH02xHBqgvA"
   },
   "outputs": [],
   "source": [
    "# create a function that inputs two numbers and reports the numbers, their integer division, and remainder\n",
    "\n",
    "# define the function\n",
    "def computeremainder():\n",
    "  x = int( input('Input numerator: ') )\n",
    "  y = int( input('Input denominator: ') )\n",
    "  division  = int( x/y )\n",
    "  remainder = x%y\n",
    "\n",
    "  print(\"%g goes into %g, %g times with a remainder of %g.\" %(y,x,division,remainder))"
   ]
  },
  {
   "cell_type": "code",
   "execution_count": 5,
   "metadata": {
    "id": "SF5AL4QmqgvA"
   },
   "outputs": [
    {
     "name": "stdout",
     "output_type": "stream",
     "text": [
      "10 goes into 20, 2 times with a remainder of 0.\n"
     ]
    }
   ],
   "source": [
    "# now test the function!\n",
    "computeremainder()"
   ]
  },
  {
   "cell_type": "code",
   "execution_count": 6,
   "metadata": {
    "id": "685cadfTqgvA"
   },
   "outputs": [],
   "source": [
    "# create a function that takes two numbers as input,\n",
    "# and returns the larger-magnitude number to the power of the smaller-magnitude number\n",
    "\n",
    "def powerfun():\n",
    "  n1 = int( input('Input one number ') )\n",
    "  n2 = int( input('Input a second number ') )\n",
    "\n",
    "  # test\n",
    "  if abs(n1)>abs(n2):\n",
    "    return n1,n2,n1**n2\n",
    "  else:\n",
    "    return n2,n1,n2**n1\n"
   ]
  },
  {
   "cell_type": "code",
   "execution_count": 7,
   "metadata": {
    "id": "4w-S0ZrPqgvA"
   },
   "outputs": [
    {
     "data": {
      "text/latex": [
       "$\\displaystyle 4^{3} = 64 $"
      ],
      "text/plain": [
       "<IPython.core.display.Math object>"
      ]
     },
     "metadata": {},
     "output_type": "display_data"
    }
   ],
   "source": [
    "# now test the function\n",
    "first,second,outcome = powerfun()\n",
    "\n",
    "display(Math('%g^{%g} = %g '%(first,second,outcome)))\n"
   ]
  },
  {
   "cell_type": "code",
   "execution_count": null,
   "metadata": {
    "id": "SoO689fhqgvB"
   },
   "outputs": [],
   "source": []
  }
 ],
 "metadata": {
  "colab": {
   "provenance": []
  },
  "kernelspec": {
   "display_name": "Python 3",
   "language": "python",
   "name": "python3"
  },
  "language_info": {
   "codemirror_mode": {
    "name": "ipython",
    "version": 3
   },
   "file_extension": ".py",
   "mimetype": "text/x-python",
   "name": "python",
   "nbconvert_exporter": "python",
   "pygments_lexer": "ipython3",
   "version": "3.13.2"
  }
 },
 "nbformat": 4,
 "nbformat_minor": 0
}
