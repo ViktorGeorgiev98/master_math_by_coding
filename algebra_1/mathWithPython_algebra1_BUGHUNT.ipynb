{
 "cells": [
  {
   "cell_type": "markdown",
   "metadata": {
    "id": "Brtl6ZgJqgu2"
   },
   "source": [
    "# COURSE: Master math by coding in Python\n",
    "# SECTION: Algebra 1\n",
    "# VIDEO: Algebra 1 bug hunt!\n",
    "\n",
    "\n",
    "### https://www.udemy.com/course/math-with-python/?couponCode=202312\n",
    "#### INSTRUCTOR: Mike X Cohen (http://sincxpress.com)\n",
    "\n",
    "This code roughly matches the code shown in the live recording: variable names, order of lines, and parameter settings may be slightly different."
   ]
  },
  {
   "cell_type": "markdown",
   "metadata": {
    "id": "JZhUk_36xwBy"
   },
   "source": [
    "<a target=\"_blank\" href=\"https://colab.research.google.com/github/mikexcohen/MasterMathByCodingInPython/blob/main/algebra_1/mathWithPython_algebra1_BUGHUNT.ipynb\">\n",
    "  <img src=\"https://colab.research.google.com/assets/colab-badge.svg\" alt=\"Open In Colab\"/>\n",
    "</a>"
   ]
  },
  {
   "cell_type": "code",
   "execution_count": 6,
   "metadata": {
    "id": "Cpw7Jeuj31m6"
   },
   "outputs": [],
   "source": [
    "# from sympy.abc import x2\n",
    "import sympy as sym\n",
    "from IPython.display import display, Math\n",
    "x2 = sym.symbols('x2')\n",
    "x2 = 4\n"
   ]
  },
  {
   "cell_type": "code",
   "execution_count": 3,
   "metadata": {
    "id": "CESOUkmv31m7"
   },
   "outputs": [],
   "source": [
    "a,b,c,d = sym.symbols('a,b,c,d')\n",
    "\n",
    "expr = 4*b + 5*a*a - c**3 + 5*d\n"
   ]
  },
  {
   "cell_type": "code",
   "execution_count": 4,
   "metadata": {
    "id": "mEA2gMc231m7"
   },
   "outputs": [
    {
     "data": {
      "text/latex": [
       "$\\displaystyle 10$"
      ],
      "text/plain": [
       "10"
      ]
     },
     "execution_count": 4,
     "metadata": {},
     "output_type": "execute_result"
    }
   ],
   "source": [
    "import math\n",
    "sym.gcd(30,50)"
   ]
  },
  {
   "cell_type": "code",
   "execution_count": 7,
   "metadata": {
    "id": "cQqbp0aO31m7"
   },
   "outputs": [
    {
     "data": {
      "text/latex": [
       "$\\displaystyle \\text{The right answer for x in expression: }4 x - 8 \\text{ is: } \\left[ 2\\right]$"
      ],
      "text/plain": [
       "<IPython.core.display.Math object>"
      ]
     },
     "metadata": {},
     "output_type": "display_data"
    }
   ],
   "source": [
    "x = sym.symbols('x')\n",
    "expr = 4*x - 8\n",
    "display(Math(f\"\\\\text{{The right answer for x in expression: }}{sym.latex(expr)} \\\\text{{ is: }} {sym.latex(sym.solve(expr))}\"))"
   ]
  },
  {
   "cell_type": "code",
   "execution_count": 12,
   "metadata": {
    "id": "kSGSbcd431m7"
   },
   "outputs": [
    {
     "data": {
      "text/latex": [
       "$\\displaystyle \\left[\\begin{matrix}1 & 2\\\\3 & 4\\end{matrix}\\right]$"
      ],
      "text/plain": [
       "<IPython.core.display.Math object>"
      ]
     },
     "metadata": {},
     "output_type": "display_data"
    }
   ],
   "source": [
    "import numpy as np\n",
    "\n",
    "A = np.array( [ [1,2],[3,4] ] )\n",
    "# make it look nice\n",
    "display(Math(sym.latex(sym.sympify(A))))"
   ]
  },
  {
   "cell_type": "code",
   "execution_count": 17,
   "metadata": {
    "id": "IERHa59i31m7"
   },
   "outputs": [
    {
     "name": "stdout",
     "output_type": "stream",
     "text": [
      "2 was present 2 times.\n",
      "11 was present 1 times.\n"
     ]
    }
   ],
   "source": [
    "fact_dict = sym.factorint(44)\n",
    "\n",
    "for key, value in fact_dict.items():\n",
    "    print('%g was present %g times.' %(key, value))\n"
   ]
  },
  {
   "cell_type": "code",
   "execution_count": 18,
   "metadata": {
    "id": "npoGOsUt31m7"
   },
   "outputs": [
    {
     "data": {
      "text/latex": [
       "$\\displaystyle 20 - 5 y^{2}$"
      ],
      "text/plain": [
       "20 - 5*y**2"
      ]
     },
     "execution_count": 18,
     "metadata": {},
     "output_type": "execute_result"
    }
   ],
   "source": [
    "x,y = sym.symbols('x,y')\n",
    "\n",
    "expr = 4*x - 5*y**2\n",
    "\n",
    "expr.subs({x: 5})\n"
   ]
  },
  {
   "cell_type": "code",
   "execution_count": 25,
   "metadata": {
    "id": "iIJbtLZw31m7"
   },
   "outputs": [
    {
     "data": {
      "text/latex": [
       "$\\displaystyle \\frac{5}{9}$"
      ],
      "text/plain": [
       "<IPython.core.display.Math object>"
      ]
     },
     "metadata": {},
     "output_type": "display_data"
    }
   ],
   "source": [
    "# goal is to show a fraction\n",
    "\n",
    "f = sym.Rational(5, 9)\n",
    "display(Math(sym.latex(f)))\n"
   ]
  },
  {
   "cell_type": "code",
   "execution_count": 31,
   "metadata": {
    "id": "eoTNxKvV31m7"
   },
   "outputs": [
    {
     "data": {
      "text/plain": [
       "[7, 3, 5]"
      ]
     },
     "execution_count": 31,
     "metadata": {},
     "output_type": "execute_result"
    }
   ],
   "source": [
    "# print the last 3 items from a list\n",
    "lst = [1,3,2,5,4,6,7,5,3,7]\n",
    "lst[-1:-4:-1]\n"
   ]
  },
  {
   "cell_type": "code",
   "execution_count": 33,
   "metadata": {
    "id": "McsL65rR31m7"
   },
   "outputs": [
    {
     "data": {
      "text/plain": [
       "[-x/2]"
      ]
     },
     "execution_count": 33,
     "metadata": {},
     "output_type": "execute_result"
    }
   ],
   "source": [
    "from sympy.abc import x,y\n",
    "\n",
    "expr = 2*x + 4*y\n",
    "\n",
    "# solve for y\n",
    "sym.solve(expr, y)"
   ]
  },
  {
   "cell_type": "code",
   "execution_count": 34,
   "metadata": {
    "id": "ebQ2ko8k31m7"
   },
   "outputs": [
    {
     "name": "stdout",
     "output_type": "stream",
     "text": [
      "[[1 2]\n",
      " [3 9]]\n"
     ]
    }
   ],
   "source": [
    "import numpy as np\n",
    "\n",
    "A = np.array( [ [1,2],[3,4] ] )\n",
    "\n",
    "# set the element in the second row, second column to 9\n",
    "A[1][1] = 9\n",
    "print(A)"
   ]
  },
  {
   "cell_type": "code",
   "execution_count": null,
   "metadata": {
    "id": "R0Mb_kvm4C4g"
   },
   "outputs": [],
   "source": []
  }
 ],
 "metadata": {
  "colab": {
   "provenance": []
  },
  "kernelspec": {
   "display_name": "Python 3",
   "language": "python",
   "name": "python3"
  },
  "language_info": {
   "codemirror_mode": {
    "name": "ipython",
    "version": 3
   },
   "file_extension": ".py",
   "mimetype": "text/x-python",
   "name": "python",
   "nbconvert_exporter": "python",
   "pygments_lexer": "ipython3",
   "version": "3.13.2"
  }
 },
 "nbformat": 4,
 "nbformat_minor": 0
}
