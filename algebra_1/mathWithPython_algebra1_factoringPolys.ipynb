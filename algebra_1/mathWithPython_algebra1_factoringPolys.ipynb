{
 "cells": [
  {
   "cell_type": "markdown",
   "metadata": {
    "id": "Brtl6ZgJqgu2"
   },
   "source": [
    "# COURSE: Master math by coding in Python\n",
    "# SECTION: Algebra 1\n",
    "# VIDEO: Factoring polynomials\n",
    "\n",
    "\n",
    "### https://www.udemy.com/course/math-with-python/?couponCode=202312\n",
    "#### INSTRUCTOR: Mike X Cohen (http://sincxpress.com)\n",
    "\n",
    "This code roughly matches the code shown in the live recording: variable names, order of lines, and parameter settings may be slightly different."
   ]
  },
  {
   "cell_type": "markdown",
   "metadata": {
    "id": "JZhUk_36xwBy"
   },
   "source": [
    "<a target=\"_blank\" href=\"https://colab.research.google.com/github/mikexcohen/MasterMathByCodingInPython/blob/main/algebra_1/mathWithPython_algebra1_factoringPolys.ipynb\">\n",
    "  <img src=\"https://colab.research.google.com/assets/colab-badge.svg\" alt=\"Open In Colab\"/>\n",
    "</a>"
   ]
  },
  {
   "cell_type": "code",
   "execution_count": null,
   "metadata": {
    "id": "LEQYG7eGeQ70"
   },
   "outputs": [],
   "source": []
  },
  {
   "cell_type": "code",
   "execution_count": 1,
   "metadata": {
    "id": "AsnYF03SeQ71"
   },
   "outputs": [],
   "source": [
    "# import libraries\n",
    "import sympy as sym\n",
    "import numpy as np\n",
    "from IPython.display import display, Math"
   ]
  },
  {
   "cell_type": "code",
   "execution_count": 2,
   "metadata": {
    "id": "B3urVuF1eQ8K"
   },
   "outputs": [
    {
     "data": {
      "text/latex": [
       "$\\displaystyle \\left(x + 1\\right) \\left(x + 3\\right)$"
      ],
      "text/plain": [
       "(x + 1)*(x + 3)"
      ]
     },
     "execution_count": 2,
     "metadata": {},
     "output_type": "execute_result"
    }
   ],
   "source": [
    "x,y = sym.symbols('x,y')\n",
    "\n",
    "po = x**2 + 4*x + 3\n",
    "sym.factor(po)"
   ]
  },
  {
   "cell_type": "code",
   "execution_count": 3,
   "metadata": {
    "id": "6e5fa5RBeQ8K"
   },
   "outputs": [
    {
     "name": "stdout",
     "output_type": "stream",
     "text": [
      "(x + 1)*(x + 3)\n"
     ]
    }
   ],
   "source": [
    "# with output\n",
    "\n",
    "fac = sym.factor(po)\n",
    "print(fac)"
   ]
  },
  {
   "cell_type": "code",
   "execution_count": 4,
   "metadata": {
    "id": "GQBY8oc_eQ8K"
   },
   "outputs": [
    {
     "data": {
      "text/latex": [
       "$\\displaystyle x^{2} + 4 x - 3$"
      ],
      "text/plain": [
       "x**2 + 4*x - 3"
      ]
     },
     "execution_count": 4,
     "metadata": {},
     "output_type": "execute_result"
    }
   ],
   "source": [
    "# not every polynomial can be factored!\n",
    "po = x**2 + 4*x - 3\n",
    "\n",
    "sym.factor(po)"
   ]
  },
  {
   "cell_type": "code",
   "execution_count": 5,
   "metadata": {
    "id": "v-_6BeGGeQ8K"
   },
   "outputs": [
    {
     "data": {
      "text/latex": [
       "$\\displaystyle 2 \\left(y - 3\\right) \\left(y - 1\\right) \\left(y + 3\\right)$"
      ],
      "text/plain": [
       "2*(y - 3)*(y - 1)*(y + 3)"
      ]
     },
     "execution_count": 5,
     "metadata": {},
     "output_type": "execute_result"
    }
   ],
   "source": [
    "expr = 2*y**3 - 2*y**2 - 18*y + 18\n",
    "sym.factor(expr)"
   ]
  },
  {
   "cell_type": "code",
   "execution_count": 6,
   "metadata": {
    "id": "51OMm-fheQ8K"
   },
   "outputs": [
    {
     "data": {
      "text/latex": [
       "$\\displaystyle 2 x \\left(x y + 3\\right) \\left(x - y + 1\\right)$"
      ],
      "text/plain": [
       "2*x*(x*y + 3)*(x - y + 1)"
      ]
     },
     "execution_count": 6,
     "metadata": {},
     "output_type": "execute_result"
    }
   ],
   "source": [
    "# multiple variables\n",
    "expr = 2*x**3*y - 2*x**2*y**2 + 2*x**2*y + 6*x**2 - 6*x*y + 6*x\n",
    "sym.factor(expr)\n"
   ]
  },
  {
   "cell_type": "code",
   "execution_count": 13,
   "metadata": {
    "id": "6dOM9ErP3keR"
   },
   "outputs": [
    {
     "data": {
      "text/latex": [
       "$\\displaystyle \\left(x + 1\\right) \\left(x + 3\\right)$"
      ],
      "text/plain": [
       "<IPython.core.display.Math object>"
      ]
     },
     "metadata": {},
     "output_type": "display_data"
    },
    {
     "data": {
      "text/latex": [
       "$\\displaystyle \\text{The expression }2 y^{2} - 1 \\text{ cannot be factored}$"
      ],
      "text/plain": [
       "<IPython.core.display.Math object>"
      ]
     },
     "metadata": {},
     "output_type": "display_data"
    },
    {
     "data": {
      "text/latex": [
       "$\\displaystyle 3 y \\left(y + 4\\right)$"
      ],
      "text/plain": [
       "<IPython.core.display.Math object>"
      ]
     },
     "metadata": {},
     "output_type": "display_data"
    }
   ],
   "source": [
    "exprs = [x**2 + 4*x + 3, 2*y**2 - 1, 3*y**2 + 12*y]\n",
    "\n",
    "for expr in exprs:\n",
    "    fac = sym.factor(expr)\n",
    "    if fac == expr:\n",
    "        display(Math(f\"\\\\text{{The expression }}{sym.latex(expr)} \\\\text{{ cannot be factored}}\"))\n",
    "    else:\n",
    "        display(Math(f\"{sym.latex(fac)}\"))"
   ]
  },
  {
   "cell_type": "markdown",
   "metadata": {
    "id": "QcVGgtpheQ8K"
   },
   "source": [
    "# Exercise"
   ]
  },
  {
   "cell_type": "code",
   "execution_count": null,
   "metadata": {
    "id": "ahMGuSCxeQ8K"
   },
   "outputs": [],
   "source": [
    "# test whether factorable, print if so.\n",
    "\n",
    "exprs = [ x**2+4*x+3 , 2*y**2-1 , 3*y**2+12*y ]\n",
    "\n",
    "for expri in exprs:\n",
    "    tmp = str( sym.factor(expri) )\n",
    "\n",
    "  if tmp.find('(')!=-1:\n",
    "    display(Math('%s \\\\quad\\\\Rightarrow\\\\quad %s' %(sym.latex(sym.expand(expri)),sym.latex(sym.factor(expri)))))\n",
    "  else:\n",
    "    display(Math('%s \\\\quad\\\\Rightarrow\\\\quad\\\\text{ not factorable!}' %sym.latex(sym.expand(expri))))\n"
   ]
  },
  {
   "cell_type": "code",
   "execution_count": null,
   "metadata": {
    "id": "p9cemxf72v0q"
   },
   "outputs": [],
   "source": []
  }
 ],
 "metadata": {
  "colab": {
   "provenance": []
  },
  "kernelspec": {
   "display_name": "Python 3",
   "language": "python",
   "name": "python3"
  },
  "language_info": {
   "codemirror_mode": {
    "name": "ipython",
    "version": 3
   },
   "file_extension": ".py",
   "mimetype": "text/x-python",
   "name": "python",
   "nbconvert_exporter": "python",
   "pygments_lexer": "ipython3",
   "version": "3.13.2"
  }
 },
 "nbformat": 4,
 "nbformat_minor": 0
}
