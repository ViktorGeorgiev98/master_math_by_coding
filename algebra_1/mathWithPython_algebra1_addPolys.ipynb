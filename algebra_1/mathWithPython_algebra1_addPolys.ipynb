{
 "cells": [
  {
   "cell_type": "markdown",
   "metadata": {
    "id": "Brtl6ZgJqgu2"
   },
   "source": [
    "# COURSE: Master math by coding in Python\n",
    "# SECTION: Algebra 1\n",
    "# VIDEO: Adding polynomials\n",
    "\n",
    "\n",
    "### https://www.udemy.com/course/math-with-python/?couponCode=202312\n",
    "#### INSTRUCTOR: Mike X Cohen (http://sincxpress.com)\n",
    "\n",
    "This code roughly matches the code shown in the live recording: variable names, order of lines, and parameter settings may be slightly different."
   ]
  },
  {
   "cell_type": "markdown",
   "metadata": {
    "id": "JZhUk_36xwBy"
   },
   "source": [
    "<a target=\"_blank\" href=\"https://colab.research.google.com/github/mikexcohen/MasterMathByCodingInPython/blob/main/algebra_1/mathWithPython_algebra1_addPolys.ipynb\">\n",
    "  <img src=\"https://colab.research.google.com/assets/colab-badge.svg\" alt=\"Open In Colab\"/>\n",
    "</a>"
   ]
  },
  {
   "cell_type": "code",
   "execution_count": null,
   "metadata": {
    "id": "LEQYG7eGeQ70"
   },
   "outputs": [],
   "source": []
  },
  {
   "cell_type": "code",
   "execution_count": 2,
   "metadata": {
    "id": "AsnYF03SeQ71"
   },
   "outputs": [],
   "source": [
    "# import libraries\n",
    "import sympy as sym\n",
    "import numpy as np\n",
    "from IPython.display import display, Math"
   ]
  },
  {
   "cell_type": "code",
   "execution_count": 3,
   "metadata": {
    "id": "UhinVt6reQ8I"
   },
   "outputs": [
    {
     "name": "stdout",
     "output_type": "stream",
     "text": [
      "-x**4 + 3*x**3 - 3*x**2 - x\n"
     ]
    },
    {
     "name": "stderr",
     "output_type": "stream",
     "text": [
      "<>:8: SyntaxWarning: invalid escape sequence '\\q'\n",
      "<>:8: SyntaxWarning: invalid escape sequence '\\q'\n",
      "C:\\Users\\admin\\AppData\\Local\\Temp\\ipykernel_23640\\4207742734.py:8: SyntaxWarning: invalid escape sequence '\\q'\n",
      "  display(Math('(%s) + (%s) \\quad=\\quad (%s)' %(sym.latex(p1),sym.latex(p2),sym.latex(p1+p2) )))\n"
     ]
    },
    {
     "data": {
      "text/latex": [
       "$\\displaystyle (2 x^{3} + x^{2} - x) + (- x^{4} + x^{3} - 4 x^{2}) \\quad=\\quad (- x^{4} + 3 x^{3} - 3 x^{2} - x)$"
      ],
      "text/plain": [
       "<IPython.core.display.Math object>"
      ]
     },
     "metadata": {},
     "output_type": "display_data"
    }
   ],
   "source": [
    "from sympy.abc import x\n",
    "\n",
    "# straight-forward version\n",
    "p1 = 2*x**3 + x**2 - x\n",
    "p2 = x**3 - x**4 - 4*x**2\n",
    "print( p1+p2 )\n",
    "\n",
    "display(Math('(%s) + (%s) \\quad=\\quad (%s)' %(sym.latex(p1),sym.latex(p2),sym.latex(p1+p2) )))"
   ]
  },
  {
   "cell_type": "code",
   "execution_count": 4,
   "metadata": {
    "id": "2XocdVBWeQ8I"
   },
   "outputs": [
    {
     "data": {
      "text/latex": [
       "$\\displaystyle \\operatorname{Poly}{\\left( 2 x^{6} + x^{2} - x, x, domain=\\mathbb{Z} \\right)}$"
      ],
      "text/plain": [
       "Poly(2*x**6 + x**2 - x, x, domain='ZZ')"
      ]
     },
     "execution_count": 4,
     "metadata": {},
     "output_type": "execute_result"
    }
   ],
   "source": [
    "# Using the Poly class\n",
    "p1 = sym.Poly(2*x**6 + x**2 - x)\n",
    "\n",
    "p1"
   ]
  },
  {
   "cell_type": "code",
   "execution_count": 5,
   "metadata": {
    "id": "oEtBQWUfeQ8I"
   },
   "outputs": [
    {
     "name": "stdout",
     "output_type": "stream",
     "text": [
      "2000090\n",
      "6\n"
     ]
    }
   ],
   "source": [
    "# can implement several methods on the polynomial object\n",
    "print( p1.eval(10) )\n",
    "\n",
    "print( p1.degree() )"
   ]
  },
  {
   "cell_type": "code",
   "execution_count": 6,
   "metadata": {
    "id": "tGn2O5W8eQ8I"
   },
   "outputs": [
    {
     "name": "stdout",
     "output_type": "stream",
     "text": [
      "Poly(2.0*x**6 + 1.0*x**4 - 1.0*x**3 + 1.4*x**2 - 1.0*x, x, domain='RR')\n",
      "Poly(2.0*x**6 + 1.0*x**4 - 1.0*x**3 + 1.4*x**2 - 1.0*x, x, domain='RR')\n",
      "Poly(2*x**6 + x**2 - x, x, domain='ZZ')\n"
     ]
    }
   ],
   "source": [
    "# create a second polynomial\n",
    "p2 = sym.Poly(x**3 - x**4 - .4*x**2)\n",
    "print( p1-p2 )\n",
    "\n",
    "# can also call the add method on the polynomial objects\n",
    "p1.add(p2)\n",
    "p1.sub(p2)\n",
    "print(p1.sub(p2))\n",
    "print(p1)\n"
   ]
  },
  {
   "cell_type": "code",
   "execution_count": 15,
   "metadata": {
    "id": "d-Fvdyw22n23"
   },
   "outputs": [
    {
     "data": {
      "text/latex": [
       "$\\displaystyle \\text{Current polynomial:} \\operatorname{Poly}{\\left( x^{2} + 2 x, x, domain=\\mathbb{Z} \\right)}$"
      ],
      "text/plain": [
       "<IPython.core.display.Math object>"
      ]
     },
     "metadata": {},
     "output_type": "display_data"
    },
    {
     "data": {
      "text/latex": [
       "$\\displaystyle \\text{Sum of coefficients:} 3$"
      ],
      "text/plain": [
       "<IPython.core.display.Math object>"
      ]
     },
     "metadata": {},
     "output_type": "display_data"
    },
    {
     "data": {
      "text/latex": [
       "$\\displaystyle \\text{Current polynomial:} \\operatorname{Poly}{\\left( -x^{3} + 4 x, x, domain=\\mathbb{Z} \\right)}$"
      ],
      "text/plain": [
       "<IPython.core.display.Math object>"
      ]
     },
     "metadata": {},
     "output_type": "display_data"
    },
    {
     "data": {
      "text/latex": [
       "$\\displaystyle \\text{Number of coefficients:} 2$"
      ],
      "text/plain": [
       "<IPython.core.display.Math object>"
      ]
     },
     "metadata": {},
     "output_type": "display_data"
    },
    {
     "data": {
      "text/latex": [
       "$\\displaystyle \\text{Current polynomial:} \\operatorname{Poly}{\\left( x^{5} - x^{4} + \\frac{1}{4} x + 4, x, domain=\\mathbb{Q} \\right)}$"
      ],
      "text/plain": [
       "<IPython.core.display.Math object>"
      ]
     },
     "metadata": {},
     "output_type": "display_data"
    },
    {
     "data": {
      "text/latex": [
       "$\\displaystyle \\text{Number of coefficients:} 4$"
      ],
      "text/plain": [
       "<IPython.core.display.Math object>"
      ]
     },
     "metadata": {},
     "output_type": "display_data"
    }
   ],
   "source": [
    "p1 = sym.Poly(x**2 + 2*x)\n",
    "p2 = sym.Poly(-x ** 3 + 4 * x)\n",
    "p3 = sym.Poly(x**5 - x**4 + x/4 + 4)\n",
    "poly_arr = [p1, p2, p3]\n",
    "for poly in poly_arr:\n",
    "    display(Math(f\"\\\\text{{Current polynomial:}} {sym.latex(poly)}\"))\n",
    "    if poly.degree() % 2 == 0:\n",
    "        coef_sum = np.sum(poly.coeffs())\n",
    "        display(Math(f\"\\\\text{{Sum of coefficients:}} {coef_sum}\"))\n",
    "    else:\n",
    "        coef_count = len(poly.coeffs())\n",
    "        display(Math(f\"\\\\text{{Number of coefficients:}} {coef_count}\"))\n"
   ]
  },
  {
   "cell_type": "markdown",
   "metadata": {
    "id": "Jqlims2aeQ8I"
   },
   "source": [
    " Exercise"
   ]
  },
  {
   "cell_type": "code",
   "execution_count": 14,
   "metadata": {
    "id": "T1A1LNIJeQ8I"
   },
   "outputs": [
    {
     "name": "stdout",
     "output_type": "stream",
     "text": [
      "The degree of x**2 + 2*x is even, and the coefficients sum to 3.\n",
      "The degree of -x**3 + 4*x is odd, and there are 2 coefficients.\n",
      "The degree of 1.0*x**5 - 1.0*x**4 + 0.25*x + 4.0 is odd, and there are 4 coefficients.\n"
     ]
    }
   ],
   "source": [
    "# create a list of polynomials\n",
    "# loop through. if order is even, sum the coeffs. if order is odd, count the number of coeffs\n",
    "\n",
    "polys = [ sym.Poly(2*x + x**2), sym.Poly(-x**3 + 4*x), sym.Poly(x**5-x**4+1/4*x+4) ]\n",
    "\n",
    "for poli in polys:\n",
    "  if poli.degree()%2==0:\n",
    "    print('The degree of %s is even, and the coefficients sum to %s.' %(poli.as_expr(),sum(poli.coeffs())))\n",
    "  else:\n",
    "    print('The degree of %s is odd, and there are %s coefficients.' %(poli.as_expr(),len(poli.coeffs())))"
   ]
  },
  {
   "cell_type": "code",
   "execution_count": null,
   "metadata": {},
   "outputs": [],
   "source": []
  }
 ],
 "metadata": {
  "colab": {
   "provenance": []
  },
  "kernelspec": {
   "display_name": "Python 3",
   "language": "python",
   "name": "python3"
  },
  "language_info": {
   "codemirror_mode": {
    "name": "ipython",
    "version": 3
   },
   "file_extension": ".py",
   "mimetype": "text/x-python",
   "name": "python",
   "nbconvert_exporter": "python",
   "pygments_lexer": "ipython3",
   "version": "3.13.2"
  }
 },
 "nbformat": 4,
 "nbformat_minor": 0
}
