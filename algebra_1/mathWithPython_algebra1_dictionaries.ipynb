{
 "cells": [
  {
   "cell_type": "markdown",
   "metadata": {
    "id": "Brtl6ZgJqgu2"
   },
   "source": [
    "# COURSE: Master math by coding in Python\n",
    "# SECTION: Algebra 1\n",
    "# VIDEO: Introduction to dictionaries\n",
    "\n",
    "\n",
    "### https://www.udemy.com/course/math-with-python/?couponCode=202312\n",
    "#### INSTRUCTOR: Mike X Cohen (http://sincxpress.com)\n",
    "\n",
    "This code roughly matches the code shown in the live recording: variable names, order of lines, and parameter settings may be slightly different."
   ]
  },
  {
   "cell_type": "markdown",
   "metadata": {
    "id": "JZhUk_36xwBy"
   },
   "source": [
    "<a target=\"_blank\" href=\"https://colab.research.google.com/github/mikexcohen/MasterMathByCodingInPython/blob/main/algebra_1/mathWithPython_algebra1_dictionaries.ipynb\">\n",
    "  <img src=\"https://colab.research.google.com/assets/colab-badge.svg\" alt=\"Open In Colab\"/>\n",
    "</a>"
   ]
  },
  {
   "cell_type": "code",
   "execution_count": null,
   "metadata": {
    "id": "LEQYG7eGeQ70"
   },
   "outputs": [],
   "source": []
  },
  {
   "cell_type": "code",
   "execution_count": 1,
   "metadata": {
    "id": "AsnYF03SeQ71"
   },
   "outputs": [],
   "source": [
    "# It's generally good practice to import all required modules at the top of the script!\n",
    "import sympy as sym\n",
    "import numpy as np\n",
    "from IPython.display import display, Math"
   ]
  },
  {
   "cell_type": "code",
   "execution_count": 2,
   "metadata": {
    "id": "wdAiyKRBeQ8F"
   },
   "outputs": [
    {
     "name": "stdout",
     "output_type": "stream",
     "text": [
      "{'fruit': ['banana', 'apple'], 'numbers': [1, 3, 4, 2, 5]}\n"
     ]
    }
   ],
   "source": [
    "# create a dictionary\n",
    "D = dict(fruit=['banana','apple'],numbers=[1,3,4,2,5])\n",
    "\n",
    "print(D)"
   ]
  },
  {
   "cell_type": "code",
   "execution_count": 3,
   "metadata": {
    "id": "iw0Ee803eQ8F"
   },
   "outputs": [
    {
     "data": {
      "text/plain": [
       "dict_keys(['fruit', 'numbers'])"
      ]
     },
     "execution_count": 3,
     "metadata": {},
     "output_type": "execute_result"
    }
   ],
   "source": [
    "# list the \"keys\"\n",
    "D.keys()"
   ]
  },
  {
   "cell_type": "code",
   "execution_count": 4,
   "metadata": {
    "id": "GnmgKwCGeQ8G"
   },
   "outputs": [
    {
     "data": {
      "text/plain": [
       "[1, 3, 4, 2, 5]"
      ]
     },
     "execution_count": 4,
     "metadata": {},
     "output_type": "execute_result"
    }
   ],
   "source": [
    "# get the information from the numbers\n",
    "D['numbers']"
   ]
  },
  {
   "cell_type": "code",
   "execution_count": 5,
   "metadata": {
    "id": "gVYDUfcUeQ8G"
   },
   "outputs": [
    {
     "data": {
      "text/plain": [
       "'banana'"
      ]
     },
     "execution_count": 5,
     "metadata": {},
     "output_type": "execute_result"
    }
   ],
   "source": [
    "# or this way\n",
    "D.get('fruit')[0]"
   ]
  },
  {
   "cell_type": "code",
   "execution_count": 6,
   "metadata": {
    "id": "pFmRZcs-eQ8G"
   },
   "outputs": [
    {
     "data": {
      "text/plain": [
       "2"
      ]
     },
     "execution_count": 6,
     "metadata": {},
     "output_type": "execute_result"
    }
   ],
   "source": [
    "len(D)"
   ]
  },
  {
   "cell_type": "code",
   "execution_count": 7,
   "metadata": {
    "id": "WRrtIJV5eQ8G"
   },
   "outputs": [
    {
     "name": "stdout",
     "output_type": "stream",
     "text": [
      "['banana', 'apple']\n",
      "[1, 3, 4, 2, 5]\n"
     ]
    }
   ],
   "source": [
    "# print out all information in a loop!\n",
    "for items in D.keys(): # .keys() is implied!\n",
    "  print(D[items])"
   ]
  },
  {
   "cell_type": "code",
   "execution_count": null,
   "metadata": {
    "id": "WehirgJ1eQ8G"
   },
   "outputs": [],
   "source": [
    "# make a dictionary of equations\n",
    "x,y = sym.symbols('x,y')\n",
    "\n",
    "D = dict(eqsWithX=[x/3-6,x*2+3],eqsWithY=[y-y/4,y-5])\n",
    "D.keys()\n",
    "\n",
    "Dkeys = list(D)\n",
    "\n",
    "# access individual keys\n",
    "D[Dkeys[0]]\n"
   ]
  },
  {
   "cell_type": "code",
   "execution_count": null,
   "metadata": {
    "id": "_e80bGwY1Md3"
   },
   "outputs": [],
   "source": []
  },
  {
   "cell_type": "markdown",
   "metadata": {
    "id": "N57dkTx0eQ8G"
   },
   "source": [
    "# Exercise"
   ]
  },
  {
   "cell_type": "code",
   "execution_count": 8,
   "metadata": {
    "id": "gqgw0ylyeQ8G"
   },
   "outputs": [
    {
     "name": "stdout",
     "output_type": "stream",
     "text": [
      "Equations solving for X:\n"
     ]
    },
    {
     "data": {
      "text/latex": [
       "$\\displaystyle \\quad\\quad 4 x - 6 = 0\\quad\\quad \\Rightarrow\\quad\\quad X = \\left[ \\frac{3}{2}\\right]$"
      ],
      "text/plain": [
       "<IPython.core.display.Math object>"
      ]
     },
     "metadata": {},
     "output_type": "display_data"
    },
    {
     "data": {
      "text/latex": [
       "$\\displaystyle \\quad\\quad x^{2} - 9 = 0\\quad\\quad \\Rightarrow\\quad\\quad X = \\left[ -3, \\  3\\right]$"
      ],
      "text/plain": [
       "<IPython.core.display.Math object>"
      ]
     },
     "metadata": {},
     "output_type": "display_data"
    },
    {
     "name": "stdout",
     "output_type": "stream",
     "text": [
      "Equations solving for Y:\n"
     ]
    },
    {
     "data": {
      "text/latex": [
       "$\\displaystyle \\quad\\quad \\sin{\\left(y \\right)} = 0\\quad\\quad \\Rightarrow\\quad\\quad Y = \\left[ 0, \\  \\pi\\right]$"
      ],
      "text/plain": [
       "<IPython.core.display.Math object>"
      ]
     },
     "metadata": {},
     "output_type": "display_data"
    }
   ],
   "source": [
    "# let's make a new dictionary\n",
    "x,y = sym.symbols('x,y')\n",
    "\n",
    "# count number of x's and y's in the equation\n",
    "D = dict(eqsWithX=[4*x-6,x**2-9],eqsWithY=[sym.sin(y)])\n",
    "\n",
    "# solve them in a loop\n",
    "for keyi in D:\n",
    "\n",
    "  print('Equations solving for ' + keyi[-1] + ':')\n",
    "\n",
    "  for i in D[keyi]:\n",
    "\n",
    "    fullEQ     = sym.latex(sym.sympify(i)) + ' = 0'\n",
    "    middlepart = '\\\\quad\\\\quad \\\\Rightarrow\\\\quad\\\\quad ' + keyi[-1] + ' = '\n",
    "    soln       = sym.latex(sym.solve(i))\n",
    "\n",
    "    display(Math( '\\\\quad\\\\quad ' + fullEQ + middlepart + soln ))"
   ]
  },
  {
   "cell_type": "code",
   "execution_count": null,
   "metadata": {},
   "outputs": [],
   "source": []
  }
 ],
 "metadata": {
  "colab": {
   "provenance": []
  },
  "kernelspec": {
   "display_name": "Python 3",
   "language": "python",
   "name": "python3"
  },
  "language_info": {
   "codemirror_mode": {
    "name": "ipython",
    "version": 3
   },
   "file_extension": ".py",
   "mimetype": "text/x-python",
   "name": "python",
   "nbconvert_exporter": "python",
   "pygments_lexer": "ipython3",
   "version": "3.13.2"
  }
 },
 "nbformat": 4,
 "nbformat_minor": 0
}
