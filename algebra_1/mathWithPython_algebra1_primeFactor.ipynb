{
 "cells": [
  {
   "cell_type": "markdown",
   "metadata": {
    "id": "Brtl6ZgJqgu2"
   },
   "source": [
    "# COURSE: Master math by coding in Python\n",
    "# SECTION: Algebra 1\n",
    "# VIDEO: Prime factorization\n",
    "\n",
    "\n",
    "### https://www.udemy.com/course/math-with-python/?couponCode=202312\n",
    "#### INSTRUCTOR: Mike X Cohen (http://sincxpress.com)\n",
    "\n",
    "This code roughly matches the code shown in the live recording: variable names, order of lines, and parameter settings may be slightly different."
   ]
  },
  {
   "cell_type": "markdown",
   "metadata": {
    "id": "JZhUk_36xwBy"
   },
   "source": [
    "<a target=\"_blank\" href=\"https://colab.research.google.com/github/mikexcohen/MasterMathByCodingInPython/blob/main/algebra_1/mathWithPython_algebra1_primeFactor.ipynb\">\n",
    "  <img src=\"https://colab.research.google.com/assets/colab-badge.svg\" alt=\"Open In Colab\"/>\n",
    "</a>"
   ]
  },
  {
   "cell_type": "code",
   "execution_count": null,
   "metadata": {
    "id": "LEQYG7eGeQ70"
   },
   "outputs": [],
   "source": []
  },
  {
   "cell_type": "code",
   "execution_count": 1,
   "metadata": {
    "id": "AsnYF03SeQ71"
   },
   "outputs": [],
   "source": [
    "# import libraries\n",
    "import sympy as sym\n",
    "import numpy as np\n",
    "from IPython.display import display, Math"
   ]
  },
  {
   "cell_type": "code",
   "execution_count": 2,
   "metadata": {
    "id": "JUv7RozYeQ8G"
   },
   "outputs": [
    {
     "name": "stdout",
     "output_type": "stream",
     "text": [
      "{2: 4, 3: 1}\n"
     ]
    }
   ],
   "source": [
    "# factor an integer into the product of prime numbers\n",
    "number = 48\n",
    "\n",
    "# Use the sympy function factorint. The output is a dictionary!\n",
    "fact_dict = sym.factorint(number)\n",
    "print(fact_dict)"
   ]
  },
  {
   "cell_type": "code",
   "execution_count": 3,
   "metadata": {
    "id": "cnLx2qgVeQ8G"
   },
   "outputs": [
    {
     "name": "stdout",
     "output_type": "stream",
     "text": [
      "The prime factors of 48 are [2, 3]\n"
     ]
    },
    {
     "data": {
      "text/plain": [
       "1"
      ]
     },
     "execution_count": 3,
     "metadata": {},
     "output_type": "execute_result"
    }
   ],
   "source": [
    "# just print the prime numbers\n",
    "primenumbers = list( fact_dict.keys() )\n",
    "\n",
    "print('The prime factors of ' + str(number) + ' are ' + str(primenumbers))\n",
    "\n",
    "fact_dict[primenumbers[1]]"
   ]
  },
  {
   "cell_type": "code",
   "execution_count": 4,
   "metadata": {
    "id": "nvmH5Xi6eQ8H"
   },
   "outputs": [
    {
     "data": {
      "text/plain": [
       "{2: 2}"
      ]
     },
     "execution_count": 4,
     "metadata": {},
     "output_type": "execute_result"
    }
   ],
   "source": [
    "# test on prime number\n",
    "sym.factorint(4)"
   ]
  },
  {
   "cell_type": "code",
   "execution_count": 7,
   "metadata": {
    "id": "btwP-V8h1xwo"
   },
   "outputs": [
    {
     "name": "stdout",
     "output_type": "stream",
     "text": [
      "2 is a prime number\n",
      "3 is a prime number\n",
      "4 is a prime number\n",
      "5 is a prime number\n",
      "6 is a composite number, its prime factors are [2, 3]\n",
      "7 is a prime number\n",
      "8 is a prime number\n",
      "9 is a prime number\n",
      "10 is a composite number, its prime factors are [2, 5]\n",
      "11 is a prime number\n",
      "12 is a composite number, its prime factors are [2, 3]\n",
      "13 is a prime number\n",
      "14 is a composite number, its prime factors are [2, 7]\n",
      "15 is a composite number, its prime factors are [3, 5]\n",
      "16 is a prime number\n",
      "17 is a prime number\n",
      "18 is a composite number, its prime factors are [2, 3]\n",
      "19 is a prime number\n",
      "20 is a composite number, its prime factors are [2, 5]\n",
      "21 is a composite number, its prime factors are [3, 7]\n",
      "22 is a composite number, its prime factors are [2, 11]\n",
      "23 is a prime number\n",
      "24 is a composite number, its prime factors are [2, 3]\n",
      "25 is a prime number\n",
      "26 is a composite number, its prime factors are [2, 13]\n",
      "27 is a prime number\n",
      "28 is a composite number, its prime factors are [2, 7]\n",
      "29 is a prime number\n",
      "30 is a composite number, its prime factors are [2, 3, 5]\n",
      "31 is a prime number\n",
      "32 is a prime number\n",
      "33 is a composite number, its prime factors are [3, 11]\n",
      "34 is a composite number, its prime factors are [2, 17]\n",
      "35 is a composite number, its prime factors are [5, 7]\n",
      "36 is a composite number, its prime factors are [2, 3]\n",
      "37 is a prime number\n",
      "38 is a composite number, its prime factors are [2, 19]\n",
      "39 is a composite number, its prime factors are [3, 13]\n",
      "40 is a composite number, its prime factors are [2, 5]\n",
      "41 is a prime number\n",
      "42 is a composite number, its prime factors are [2, 3, 7]\n",
      "43 is a prime number\n",
      "44 is a composite number, its prime factors are [2, 11]\n",
      "45 is a composite number, its prime factors are [3, 5]\n",
      "46 is a composite number, its prime factors are [2, 23]\n",
      "47 is a prime number\n",
      "48 is a composite number, its prime factors are [2, 3]\n",
      "49 is a prime number\n",
      "50 is a composite number, its prime factors are [2, 5]\n"
     ]
    }
   ],
   "source": [
    "for num in range(2, 51):\n",
    "    fact = sym.factorint(num)\n",
    "    if len(fact) == 1:\n",
    "        print(f\"{num} is a prime number\")\n",
    "    else:\n",
    "        prime_factors = [factor for (factor, count) in fact.items()]\n",
    "        print(f\"{num} is a composite number, its prime factors are {prime_factors}\")"
   ]
  },
  {
   "cell_type": "markdown",
   "metadata": {
    "id": "-9cI45NGeQ8H"
   },
   "source": [
    "# Exercise"
   ]
  },
  {
   "cell_type": "code",
   "execution_count": 5,
   "metadata": {
    "id": "jIRiIwPQeQ8H"
   },
   "outputs": [
    {
     "name": "stdout",
     "output_type": "stream",
     "text": [
      "2 is a prime number\n",
      "3 is a prime number\n",
      "4 is a composite number with prime factors [2]\n",
      "5 is a prime number\n",
      "6 is a composite number with prime factors [2, 3]\n",
      "7 is a prime number\n",
      "8 is a composite number with prime factors [2]\n",
      "9 is a composite number with prime factors [3]\n",
      "10 is a composite number with prime factors [2, 5]\n",
      "11 is a prime number\n",
      "12 is a composite number with prime factors [2, 3]\n",
      "13 is a prime number\n",
      "14 is a composite number with prime factors [2, 7]\n",
      "15 is a composite number with prime factors [3, 5]\n",
      "16 is a composite number with prime factors [2]\n",
      "17 is a prime number\n",
      "18 is a composite number with prime factors [2, 3]\n",
      "19 is a prime number\n",
      "20 is a composite number with prime factors [2, 5]\n",
      "21 is a composite number with prime factors [3, 7]\n",
      "22 is a composite number with prime factors [2, 11]\n",
      "23 is a prime number\n",
      "24 is a composite number with prime factors [2, 3]\n",
      "25 is a composite number with prime factors [5]\n",
      "26 is a composite number with prime factors [2, 13]\n",
      "27 is a composite number with prime factors [3]\n",
      "28 is a composite number with prime factors [2, 7]\n",
      "29 is a prime number\n",
      "30 is a composite number with prime factors [2, 3, 5]\n",
      "31 is a prime number\n",
      "32 is a composite number with prime factors [2]\n",
      "33 is a composite number with prime factors [3, 11]\n",
      "34 is a composite number with prime factors [2, 17]\n",
      "35 is a composite number with prime factors [5, 7]\n",
      "36 is a composite number with prime factors [2, 3]\n",
      "37 is a prime number\n",
      "38 is a composite number with prime factors [2, 19]\n",
      "39 is a composite number with prime factors [3, 13]\n",
      "40 is a composite number with prime factors [2, 5]\n",
      "41 is a prime number\n",
      "42 is a composite number with prime factors [2, 3, 7]\n",
      "43 is a prime number\n",
      "44 is a composite number with prime factors [2, 11]\n",
      "45 is a composite number with prime factors [3, 5]\n",
      "46 is a composite number with prime factors [2, 23]\n",
      "47 is a prime number\n",
      "48 is a composite number with prime factors [2, 3]\n",
      "49 is a composite number with prime factors [7]\n",
      "50 is a composite number with prime factors [2, 5]\n"
     ]
    }
   ],
   "source": [
    "# loop through numbers and report whether each number is composite or prime\n",
    "\n",
    "nums = range(2,51)\n",
    "for i in nums:\n",
    "  di = sym.factorint(i)\n",
    "  ks = list(di.keys())\n",
    "  if len(di)==1 and di[ks[0]]==1:\n",
    "    print('%s is a prime number' %i)\n",
    "  else:\n",
    "    print('%s is a composite number with prime factors %s' %(i,list(di.keys())))\n"
   ]
  },
  {
   "cell_type": "code",
   "execution_count": null,
   "metadata": {
    "id": "mqUm9TjZ14xe"
   },
   "outputs": [],
   "source": []
  }
 ],
 "metadata": {
  "colab": {
   "provenance": []
  },
  "kernelspec": {
   "display_name": "Python 3",
   "language": "python",
   "name": "python3"
  },
  "language_info": {
   "codemirror_mode": {
    "name": "ipython",
    "version": 3
   },
   "file_extension": ".py",
   "mimetype": "text/x-python",
   "name": "python",
   "nbconvert_exporter": "python",
   "pygments_lexer": "ipython3",
   "version": "3.13.2"
  }
 },
 "nbformat": 4,
 "nbformat_minor": 0
}
