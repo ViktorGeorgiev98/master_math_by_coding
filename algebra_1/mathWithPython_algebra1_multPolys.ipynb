{
 "cells": [
  {
   "cell_type": "markdown",
   "metadata": {
    "id": "Brtl6ZgJqgu2"
   },
   "source": [
    "# COURSE: Master math by coding in Python\n",
    "# SECTION: Algebra 1\n",
    "# VIDEO: Multiplying polynomials\n",
    "\n",
    "\n",
    "### https://www.udemy.com/course/math-with-python/?couponCode=202312\n",
    "#### INSTRUCTOR: Mike X Cohen (http://sincxpress.com)\n",
    "\n",
    "This code roughly matches the code shown in the live recording: variable names, order of lines, and parameter settings may be slightly different."
   ]
  },
  {
   "cell_type": "markdown",
   "metadata": {
    "id": "JZhUk_36xwBy"
   },
   "source": [
    "<a target=\"_blank\" href=\"https://colab.research.google.com/github/mikexcohen/MasterMathByCodingInPython/blob/main/algebra_1/mathWithPython_algebra1_multPolys.ipynb\">\n",
    "  <img src=\"https://colab.research.google.com/assets/colab-badge.svg\" alt=\"Open In Colab\"/>\n",
    "</a>"
   ]
  },
  {
   "cell_type": "code",
   "execution_count": null,
   "metadata": {
    "id": "LEQYG7eGeQ70"
   },
   "outputs": [],
   "source": []
  },
  {
   "cell_type": "code",
   "execution_count": 1,
   "metadata": {
    "id": "AsnYF03SeQ71"
   },
   "outputs": [],
   "source": [
    "# import libraries\n",
    "import sympy as sym\n",
    "import numpy as np\n",
    "from IPython.display import display, Math"
   ]
  },
  {
   "cell_type": "code",
   "execution_count": 2,
   "metadata": {
    "id": "7rkMTLIDeQ8I"
   },
   "outputs": [
    {
     "data": {
      "text/latex": [
       "$\\displaystyle x^{5}$"
      ],
      "text/plain": [
       "x**5"
      ]
     },
     "execution_count": 2,
     "metadata": {},
     "output_type": "execute_result"
    }
   ],
   "source": [
    "x = sym.symbols('x')\n",
    "\n",
    "x**2 * x**3"
   ]
  },
  {
   "cell_type": "code",
   "execution_count": 3,
   "metadata": {
    "id": "DWEmSvdweQ8I"
   },
   "outputs": [
    {
     "data": {
      "text/latex": [
       "$\\displaystyle \\left(4 x^{2} - 2 x\\right) \\left(x^{3} + 1\\right)$"
      ],
      "text/plain": [
       "(4*x**2 - 2*x)*(x**3 + 1)"
      ]
     },
     "execution_count": 3,
     "metadata": {},
     "output_type": "execute_result"
    }
   ],
   "source": [
    "# a litte more complicated\n",
    "p1 = 4*x**2 - 2*x\n",
    "p2 = x**3 + 1\n",
    "\n",
    "p1*p2"
   ]
  },
  {
   "cell_type": "code",
   "execution_count": 4,
   "metadata": {
    "id": "2R1TmdYjeQ8J"
   },
   "outputs": [
    {
     "name": "stdout",
     "output_type": "stream",
     "text": [
      "4*x**5 - 2*x**4 + 4*x**2 - 2*x\n"
     ]
    },
    {
     "data": {
      "text/latex": [
       "$\\displaystyle \\left(4 x^{2} - 2 x\\right) \\left(x^{3} + 1\\right)$"
      ],
      "text/plain": [
       "<IPython.core.display.Math object>"
      ]
     },
     "metadata": {},
     "output_type": "display_data"
    },
    {
     "data": {
      "text/latex": [
       "$\\displaystyle 4 x^{5} - 2 x^{4} + 4 x^{2} - 2 x$"
      ],
      "text/plain": [
       "<IPython.core.display.Math object>"
      ]
     },
     "metadata": {},
     "output_type": "display_data"
    }
   ],
   "source": [
    "# the way your math teacher would want it written out\n",
    "print( sym.expand( p1*p2 ) )\n",
    "\n",
    "display(Math(sym.latex(p1*p2)))\n",
    "display(Math(sym.latex(sym.expand(p1*p2))))\n"
   ]
  },
  {
   "cell_type": "code",
   "execution_count": null,
   "metadata": {
    "id": "PD3H-D_SeQ8J"
   },
   "outputs": [],
   "source": [
    "# check our work from the slides!\n",
    "x,y = sym.symbols('x,y')\n",
    "\n",
    "poly1 = x**5 + 2*x*y + y**2\n",
    "poly2 = x - 3*x*y\n",
    "\n",
    "poly1*poly2"
   ]
  },
  {
   "cell_type": "code",
   "execution_count": null,
   "metadata": {
    "id": "rpLqqkc7eQ8J"
   },
   "outputs": [],
   "source": [
    "display(Math(sym.latex(sym.expand( poly1*poly2 ))))"
   ]
  },
  {
   "cell_type": "code",
   "execution_count": 17,
   "metadata": {
    "id": "Qo-qvXTK2_0E"
   },
   "outputs": [
    {
     "data": {
      "text/latex": [
       "$\\displaystyle \\text{Multiplied:} \\left(- x^{3} + 6 x^{2} y + 0.8 y^{3}\\right) \\left(4 x^{4} - 3 x^{2} + x y^{2} - 9 y^{3}\\right)$"
      ],
      "text/plain": [
       "<IPython.core.display.Math object>"
      ]
     },
     "metadata": {},
     "output_type": "display_data"
    },
    {
     "data": {
      "text/latex": [
       "$\\displaystyle \\text{Expanded:} - 4 x^{7} + 24 x^{6} y + 3 x^{5} + 3.2 x^{4} y^{3} - x^{4} y^{2} - 18 x^{4} y + 15 x^{3} y^{3} - 54 x^{2} y^{4} - 2.4 x^{2} y^{3} + 0.8 x y^{5} - 7.2 y^{6}$"
      ],
      "text/plain": [
       "<IPython.core.display.Math object>"
      ]
     },
     "metadata": {},
     "output_type": "display_data"
    },
    {
     "data": {
      "text/latex": [
       "$\\displaystyle \\text{Substituted by first multypling, then substituting:} -1085833.8$"
      ],
      "text/plain": [
       "<IPython.core.display.Math object>"
      ]
     },
     "metadata": {},
     "output_type": "display_data"
    },
    {
     "data": {
      "text/latex": [
       "$\\displaystyle \\text{Substituted first, then multiplied:} -1085833.8$"
      ],
      "text/plain": [
       "<IPython.core.display.Math object>"
      ]
     },
     "metadata": {},
     "output_type": "display_data"
    }
   ],
   "source": [
    "x,y = sym.symbols(\"x, y\")\n",
    "\n",
    "fxy = 4*x**4 - 3*x**2 + x*y**2 - 9*y**3\n",
    "gxy = -x**3 + 6*x**2*y + .8*y**3 \n",
    "\n",
    "# 1/ Multiply the polynomials, then substitute\n",
    "fxygxy = fxy * gxy\n",
    "fxygxy_expanded = sym.expand(fxygxy)\n",
    "display(Math(f\"\\\\text{{Multiplied:}} {sym.latex(fxygxy)}\"))\n",
    "display(Math(f\"\\\\text{{Expanded:}} {sym.latex(fxygxy_expanded)}\"))\n",
    "fxygxy.subs({x: 5, y:-2})\n",
    "display(Math(f\"\\\\text{{Substituted by first multypling, then substituting:}} {sym.latex(fxygxy.subs({x: 5, y:-2}))}\"))\n",
    "\n",
    "#2/ Substitute first, then multiply\n",
    "fxy_sub = fxy.subs({x: 5, y:-2})\n",
    "gxy_sub = gxy.subs({x: 5, y:-2})\n",
    "fxygxy_sub = fxy_sub * gxy_sub\n",
    "display(Math(f\"\\\\text{{Substituted first, then multiplied:}} {sym.latex(fxygxy_sub)}\"))\n"
   ]
  },
  {
   "cell_type": "markdown",
   "metadata": {
    "id": "2EWW8M_ueQ8J"
   },
   "source": [
    "# Exercise"
   ]
  },
  {
   "cell_type": "code",
   "execution_count": 13,
   "metadata": {
    "id": "Q6Xls_6XeQ8J"
   },
   "outputs": [
    {
     "name": "stderr",
     "output_type": "stream",
     "text": [
      "<>:7: SyntaxWarning: invalid escape sequence '\\q'\n",
      "<>:7: SyntaxWarning: invalid escape sequence '\\q'\n",
      "C:\\Users\\admin\\AppData\\Local\\Temp\\ipykernel_45516\\3761424790.py:7: SyntaxWarning: invalid escape sequence '\\q'\n",
      "  display(Math( '(%s)\\quad\\\\times\\quad(%s) \\quad=\\quad %s' %(sym.latex(fxy),sym.latex(gxy),sym.latex(sym.expand(fxy*gxy)) )))\n"
     ]
    },
    {
     "data": {
      "text/latex": [
       "$\\displaystyle (4 x^{4} - 3 x^{2} + x y^{2} - 9 y^{3})\\quad\\times\\quad(- x^{3} + 6 x^{2} y + 0.8 y^{3}) \\quad=\\quad - 4 x^{7} + 24 x^{6} y + 3 x^{5} + 3.2 x^{4} y^{3} - x^{4} y^{2} - 18 x^{4} y + 15 x^{3} y^{3} - 54 x^{2} y^{4} - 2.4 x^{2} y^{3} + 0.8 x y^{5} - 7.2 y^{6}$"
      ],
      "text/plain": [
       "<IPython.core.display.Math object>"
      ]
     },
     "metadata": {},
     "output_type": "display_data"
    }
   ],
   "source": [
    "# with x's and y's, substitute before vs after multiplication\n",
    "x,y = sym.symbols('x,y')\n",
    "\n",
    "fxy = 4*x**4 - 9*y**3 - 3*x**2 + x*y**2\n",
    "gxy = 4/5*y**3 - x**3 + 6*x**2*y\n",
    "\n",
    "display(Math( '(%s)\\quad\\\\times\\quad(%s) \\quad=\\quad %s' %(sym.latex(fxy),sym.latex(gxy),sym.latex(sym.expand(fxy*gxy)) )))\n"
   ]
  },
  {
   "cell_type": "code",
   "execution_count": 14,
   "metadata": {
    "id": "0JWH1-7aeQ8J"
   },
   "outputs": [
    {
     "name": "stdout",
     "output_type": "stream",
     "text": [
      "Separate substitution: -1085833.80000000\n",
      "Multiplied substitution: -1085833.80000000\n"
     ]
    }
   ],
   "source": [
    "xval = 5\n",
    "yval = -2\n",
    "\n",
    "# first substitute and then multiply\n",
    "fxy_subs = fxy.subs({x:xval,y:yval})\n",
    "gxy_subs = gxy.subs({x:xval,y:yval})\n",
    "print('Separate substitution: %s' %(fxy_subs*gxy_subs))\n",
    "\n",
    "# multiply then substitute\n",
    "fg = (fxy*gxy).subs({x:xval,y:yval})\n",
    "print('Multiplied substitution: %s' %fg)\n"
   ]
  },
  {
   "cell_type": "code",
   "execution_count": null,
   "metadata": {
    "id": "p9cemxf72v0q"
   },
   "outputs": [],
   "source": []
  }
 ],
 "metadata": {
  "colab": {
   "provenance": []
  },
  "kernelspec": {
   "display_name": "Python 3",
   "language": "python",
   "name": "python3"
  },
  "language_info": {
   "codemirror_mode": {
    "name": "ipython",
    "version": 3
   },
   "file_extension": ".py",
   "mimetype": "text/x-python",
   "name": "python",
   "nbconvert_exporter": "python",
   "pygments_lexer": "ipython3",
   "version": "3.13.2"
  }
 },
 "nbformat": 4,
 "nbformat_minor": 0
}
