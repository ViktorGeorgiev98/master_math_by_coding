{
 "cells": [
  {
   "cell_type": "markdown",
   "metadata": {
    "id": "Brtl6ZgJqgu2"
   },
   "source": [
    "# COURSE: Master math by coding in Python\n",
    "# SECTION: Algebra 1\n",
    "# VIDEO: Creating and working with Python lists\n",
    "\n",
    "\n",
    "### https://www.udemy.com/course/math-with-python/?couponCode=202312\n",
    "#### INSTRUCTOR: Mike X Cohen (http://sincxpress.com)\n",
    "\n",
    "This code roughly matches the code shown in the live recording: variable names, order of lines, and parameter settings may be slightly different."
   ]
  },
  {
   "cell_type": "markdown",
   "metadata": {
    "id": "JZhUk_36xwBy"
   },
   "source": [
    "<a target=\"_blank\" href=\"https://colab.research.google.com/github/mikexcohen/MasterMathByCodingInPython/blob/main/algebra_1/mathWithPython_algebra1_list.ipynb\">\n",
    "  <img src=\"https://colab.research.google.com/assets/colab-badge.svg\" alt=\"Open In Colab\"/>\n",
    "</a>"
   ]
  },
  {
   "cell_type": "code",
   "execution_count": null,
   "metadata": {
    "id": "LEQYG7eGeQ70"
   },
   "outputs": [],
   "source": []
  },
  {
   "cell_type": "code",
   "execution_count": 2,
   "metadata": {
    "id": "AsnYF03SeQ71"
   },
   "outputs": [],
   "source": [
    "# It's generally good practice to import all required modules at the top of the script!\n",
    "import sympy as sym\n",
    "import numpy as np\n",
    "from IPython.display import display, Math"
   ]
  },
  {
   "cell_type": "code",
   "execution_count": null,
   "metadata": {
    "id": "EYaSebfgeQ8C"
   },
   "outputs": [],
   "source": [
    "# a list is a collection of things, and created using brackets []\n",
    "# A simple example is a list of numbers\n",
    "\n",
    "lst = [1,3,4,7]\n",
    "print( lst )\n",
    "print(type(lst))"
   ]
  },
  {
   "cell_type": "code",
   "execution_count": null,
   "metadata": {
    "id": "WkcjkgCieQ8C"
   },
   "outputs": [],
   "source": [
    "# you can access individual list elements\n",
    "lst[2]"
   ]
  },
  {
   "cell_type": "code",
   "execution_count": null,
   "metadata": {
    "id": "vyvCtNrMeQ8C"
   },
   "outputs": [],
   "source": [
    "# -1 is for the final element\n",
    "lst[-1]"
   ]
  },
  {
   "cell_type": "code",
   "execution_count": null,
   "metadata": {
    "id": "e1jn3kUpeQ8C"
   },
   "outputs": [],
   "source": [
    "# \"slicing\"\n",
    "\n",
    "# print the first N list items\n",
    "N = 2\n",
    "lst[:N]\n"
   ]
  },
  {
   "cell_type": "code",
   "execution_count": null,
   "metadata": {
    "id": "81XWFhuDeQ8D"
   },
   "outputs": [],
   "source": [
    "# print the last k items\n",
    "k = 2\n",
    "lst[-k:]\n"
   ]
  },
  {
   "cell_type": "code",
   "execution_count": null,
   "metadata": {
    "id": "dUgxvXWpeQ8D"
   },
   "outputs": [],
   "source": [
    "# print items n through k\n",
    "lst = [1,2,3,4,5,6,7,8,9]\n",
    "\n",
    "n = 3\n",
    "k = 7\n",
    "\n",
    "lst[n-1:k]\n"
   ]
  },
  {
   "cell_type": "code",
   "execution_count": null,
   "metadata": {
    "id": "jDFinfw_eQ8D"
   },
   "outputs": [],
   "source": [
    "# a list of strings\n",
    "name = ['hello','my','name','is','Mike']\n",
    "\n",
    "# access each element using a for-loop\n",
    "for i in range(len(name)):\n",
    "  print(name[i])"
   ]
  },
  {
   "cell_type": "code",
   "execution_count": null,
   "metadata": {
    "id": "An4w1nkreQ8D"
   },
   "outputs": [],
   "source": [
    "# simpler!\n",
    "for i in name:\n",
    "  print(i)"
   ]
  },
  {
   "cell_type": "code",
   "execution_count": null,
   "metadata": {
    "id": "DIoNNIr6eQ8D"
   },
   "outputs": [],
   "source": [
    "# lists can also hold more than one variable type\n",
    "alist = [1,2,'cookies',[4,5]]\n",
    "\n",
    "for i in alist:\n",
    "  print(i)"
   ]
  },
  {
   "cell_type": "code",
   "execution_count": null,
   "metadata": {
    "id": "aX8wJAJqeQ8D"
   },
   "outputs": [],
   "source": [
    "# getting items from a list-within-a-list\n",
    "\n",
    "print( alist[-1] )\n",
    "\n",
    "print( alist[-1][1] )"
   ]
  },
  {
   "cell_type": "code",
   "execution_count": null,
   "metadata": {
    "id": "Rv0RDzqNeQ8D"
   },
   "outputs": [],
   "source": [
    "# the term 'list' is reserved:\n",
    "alist2 = list( (1,2,'cookies',[4,5]) )\n",
    "\n",
    "for i in alist2:\n",
    "  print(i)"
   ]
  },
  {
   "cell_type": "code",
   "execution_count": null,
   "metadata": {
    "id": "lLM7Uol6eQ8D"
   },
   "outputs": [],
   "source": [
    "# importantly, we will use lists for sympy expressions!\n",
    "# list_of_expressions\n",
    "expr_list = [ 4*x**2 , 3+x , (1-x)/(1+x) ]"
   ]
  },
  {
   "cell_type": "code",
   "execution_count": 12,
   "metadata": {
    "id": "SxNJDEZQwUkJ"
   },
   "outputs": [
    {
     "data": {
      "text/latex": [
       "$\\displaystyle 1\\text{: }\\text{Expression x*(4 - 6*x) + 3*x:}$"
      ],
      "text/plain": [
       "<IPython.core.display.Math object>"
      ]
     },
     "metadata": {},
     "output_type": "display_data"
    },
    {
     "data": {
      "text/latex": [
       "$\\displaystyle \\text{Normal: } x \\left(4 - 6 x\\right) + 3 x$"
      ],
      "text/plain": [
       "<IPython.core.display.Math object>"
      ]
     },
     "metadata": {},
     "output_type": "display_data"
    },
    {
     "data": {
      "text/latex": [
       "$\\displaystyle \\text{Expanded: } - 6 x^{2} + 7 x$"
      ],
      "text/plain": [
       "<IPython.core.display.Math object>"
      ]
     },
     "metadata": {},
     "output_type": "display_data"
    },
    {
     "data": {
      "text/latex": [
       "$\\displaystyle 2\\text{: }\\text{Expression -x*(2/x + 4/x**2) + (x + 4)/(4*x):}$"
      ],
      "text/plain": [
       "<IPython.core.display.Math object>"
      ]
     },
     "metadata": {},
     "output_type": "display_data"
    },
    {
     "data": {
      "text/latex": [
       "$\\displaystyle \\text{Normal: } - x \\left(\\frac{2}{x} + \\frac{4}{x^{2}}\\right) + \\frac{x + 4}{4 x}$"
      ],
      "text/plain": [
       "<IPython.core.display.Math object>"
      ]
     },
     "metadata": {},
     "output_type": "display_data"
    },
    {
     "data": {
      "text/latex": [
       "$\\displaystyle \\text{Expanded: } - \\frac{7}{4} - \\frac{3}{x}$"
      ],
      "text/plain": [
       "<IPython.core.display.Math object>"
      ]
     },
     "metadata": {},
     "output_type": "display_data"
    },
    {
     "data": {
      "text/latex": [
       "$\\displaystyle 3\\text{: }\\text{Expression (x - 3)*(x + 3)/9:}$"
      ],
      "text/plain": [
       "<IPython.core.display.Math object>"
      ]
     },
     "metadata": {},
     "output_type": "display_data"
    },
    {
     "data": {
      "text/latex": [
       "$\\displaystyle \\text{Normal: } \\frac{\\left(x - 3\\right) \\left(x + 3\\right)}{9}$"
      ],
      "text/plain": [
       "<IPython.core.display.Math object>"
      ]
     },
     "metadata": {},
     "output_type": "display_data"
    },
    {
     "data": {
      "text/latex": [
       "$\\displaystyle \\text{Expanded: } \\frac{x^{2}}{9} - 1$"
      ],
      "text/plain": [
       "<IPython.core.display.Math object>"
      ]
     },
     "metadata": {},
     "output_type": "display_data"
    }
   ],
   "source": [
    "x = sym.symbols(\"x\")\n",
    "e1 = 2*x + x*(4-6*x) + x\n",
    "e2 = -x * (2/x + 4/(x**2)) + (4+x)/(4*x)\n",
    "e3 = (x + 3)*(x-3)*x*(1/(9*x))\n",
    "expressions = [e1, e2, e3]\n",
    "for i in range (3):\n",
    "    display(Math(f\"{i+1}\\\\text{{: }}\\\\text{{Expression {expressions[i]}:}}\"))\n",
    "    display(Math(f\"\\\\text{{Normal: }} {sym.latex(expressions[i])}\"))\n",
    "    display(Math(f\"\\\\text{{Expanded: }} {sym.latex(sym.expand(expressions[i]))}\"))\n"
   ]
  },
  {
   "cell_type": "markdown",
   "metadata": {
    "id": "QNXwh6XweQ8D"
   },
   "source": [
    "# Exercises"
   ]
  },
  {
   "cell_type": "code",
   "execution_count": null,
   "metadata": {
    "id": "grXN0KhseQ8D"
   },
   "outputs": [],
   "source": [
    "# use sympy to expand and simplify these expressions\n",
    "x = sym.symbols('x')\n",
    "\n",
    "e1 = 2*x + x*(4-6*x) + x\n",
    "e2 = -x * (2/x + 4/(x**2)) + (4+x)/(4*x)\n",
    "e3 = (x + 3)*(x-3)*x*(1/(9*x))\n",
    "\n",
    "# make a list of the expressions\n",
    "exprs = [e1,e2,e3]\n",
    "\n",
    "for i in range(0,3):\n",
    "  display(Math('%s \\\\quad \\\\Longleftrightarrow \\\\quad %s' %(sym.latex(exprs[i]),sym.latex(sym.expand(exprs[i])))))\n"
   ]
  },
  {
   "cell_type": "code",
   "execution_count": null,
   "metadata": {
    "id": "RgkhpNKKwZWW"
   },
   "outputs": [],
   "source": []
  }
 ],
 "metadata": {
  "colab": {
   "provenance": []
  },
  "kernelspec": {
   "display_name": "Python 3",
   "language": "python",
   "name": "python3"
  },
  "language_info": {
   "codemirror_mode": {
    "name": "ipython",
    "version": 3
   },
   "file_extension": ".py",
   "mimetype": "text/x-python",
   "name": "python",
   "nbconvert_exporter": "python",
   "pygments_lexer": "ipython3",
   "version": "3.13.2"
  }
 },
 "nbformat": 4,
 "nbformat_minor": 0
}
